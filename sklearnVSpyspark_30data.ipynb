{
  "nbformat": 4,
  "nbformat_minor": 0,
  "metadata": {
    "colab": {
      "name": "Tugas_Minggu_4_Big_Data_Using_Python.ipynb",
      "provenance": [],
      "collapsed_sections": [],
      "mount_file_id": "1cFlFCJ-dxPb608TLm8yhJtnOcjBdUOXA",
      "authorship_tag": "ABX9TyOIr0QBETwxYTkciw2YwC1O",
      "include_colab_link": true
    },
    "kernelspec": {
      "name": "python3",
      "display_name": "Python 3"
    },
    "language_info": {
      "name": "python"
    }
  },
  "cells": [
    {
      "cell_type": "markdown",
      "metadata": {
        "id": "view-in-github",
        "colab_type": "text"
      },
      "source": [
        "<a href=\"https://colab.research.google.com/github/f3rry12/FGA-BigDataTraining/blob/main/sklearnVSpyspark_30data.ipynb\" target=\"_parent\"><img src=\"https://colab.research.google.com/assets/colab-badge.svg\" alt=\"Open In Colab\"/></a>"
      ]
    },
    {
      "cell_type": "code",
      "metadata": {
        "colab": {
          "base_uri": "https://localhost:8080/"
        },
        "id": "DGlSBHuYLajz",
        "outputId": "5e7e0539-edbc-48f1-fc92-f557d434046a"
      },
      "source": [
        "from google.colab import drive\n",
        "drive.mount('/content/drive')"
      ],
      "execution_count": 1,
      "outputs": [
        {
          "output_type": "stream",
          "text": [
            "Mounted at /content/drive\n"
          ],
          "name": "stdout"
        }
      ]
    },
    {
      "cell_type": "code",
      "metadata": {
        "colab": {
          "base_uri": "https://localhost:8080/"
        },
        "id": "r3sddxQAOX65",
        "outputId": "efec26c6-693b-415c-9192-66be117434f8"
      },
      "source": [
        "import os\n",
        "os.chdir(\"/content/drive/My Drive/FGA Big Data Using Python - Kelas B - utk Peserta/Link Tempat Upload Tugas Minggu ke-4 Big Data Using Python Kelas B/Ferry Abu Darrin Al Ghifari_01123956151-24\")\n",
        "!pwd"
      ],
      "execution_count": 1,
      "outputs": [
        {
          "output_type": "stream",
          "text": [
            "/content/drive/.shortcut-targets-by-id/1XiNT60qajEv0-xmg6AS66hDsF00Wmpau/FGA Big Data Using Python - Kelas B - utk Peserta/Link Tempat Upload Tugas Minggu ke-4 Big Data Using Python Kelas B/Ferry Abu Darrin Al Ghifari_01123956151-24\n"
          ],
          "name": "stdout"
        }
      ]
    },
    {
      "cell_type": "code",
      "metadata": {
        "id": "2y_7v6qDl8cY"
      },
      "source": [
        "!pip install ipython-autotime\n",
        "%load_ext autotime"
      ],
      "execution_count": null,
      "outputs": []
    },
    {
      "cell_type": "markdown",
      "metadata": {
        "id": "sN6lX3Qti0yX"
      },
      "source": [
        "Prediksi Stock perusahaan EA pada Data Simulasi Menggunakan Metode Regresi Linear dengan Library Pandas dan SKLearn"
      ]
    },
    {
      "cell_type": "code",
      "metadata": {
        "colab": {
          "base_uri": "https://localhost:8080/",
          "height": 990
        },
        "id": "t1bDA0yjQGUW",
        "outputId": "bc3e7f13-7fdd-434e-d139-c92abb988fd1"
      },
      "source": [
        "import pandas as pd\n",
        "import numpy as np\n",
        "\n",
        "EA_df = pd.read_csv('Data_Generate_EA.csv').head(30)\n",
        "EA_df"
      ],
      "execution_count": 42,
      "outputs": [
        {
          "output_type": "execute_result",
          "data": {
            "text/html": [
              "<div>\n",
              "<style scoped>\n",
              "    .dataframe tbody tr th:only-of-type {\n",
              "        vertical-align: middle;\n",
              "    }\n",
              "\n",
              "    .dataframe tbody tr th {\n",
              "        vertical-align: top;\n",
              "    }\n",
              "\n",
              "    .dataframe thead th {\n",
              "        text-align: right;\n",
              "    }\n",
              "</style>\n",
              "<table border=\"1\" class=\"dataframe\">\n",
              "  <thead>\n",
              "    <tr style=\"text-align: right;\">\n",
              "      <th></th>\n",
              "      <th>CountAll</th>\n",
              "      <th>CountPositiveReview</th>\n",
              "      <th>CountNegativeReview</th>\n",
              "      <th>StockOpen</th>\n",
              "    </tr>\n",
              "  </thead>\n",
              "  <tbody>\n",
              "    <tr>\n",
              "      <th>0</th>\n",
              "      <td>145014</td>\n",
              "      <td>13381</td>\n",
              "      <td>14769</td>\n",
              "      <td>142.293425</td>\n",
              "    </tr>\n",
              "    <tr>\n",
              "      <th>1</th>\n",
              "      <td>281176</td>\n",
              "      <td>19494</td>\n",
              "      <td>8061</td>\n",
              "      <td>150.383129</td>\n",
              "    </tr>\n",
              "    <tr>\n",
              "      <th>2</th>\n",
              "      <td>210040</td>\n",
              "      <td>19843</td>\n",
              "      <td>13941</td>\n",
              "      <td>152.245408</td>\n",
              "    </tr>\n",
              "    <tr>\n",
              "      <th>3</th>\n",
              "      <td>42657</td>\n",
              "      <td>11870</td>\n",
              "      <td>10785</td>\n",
              "      <td>162.935588</td>\n",
              "    </tr>\n",
              "    <tr>\n",
              "      <th>4</th>\n",
              "      <td>165595</td>\n",
              "      <td>10452</td>\n",
              "      <td>19579</td>\n",
              "      <td>146.690897</td>\n",
              "    </tr>\n",
              "    <tr>\n",
              "      <th>5</th>\n",
              "      <td>91121</td>\n",
              "      <td>16369</td>\n",
              "      <td>15832</td>\n",
              "      <td>142.517235</td>\n",
              "    </tr>\n",
              "    <tr>\n",
              "      <th>6</th>\n",
              "      <td>130699</td>\n",
              "      <td>3558</td>\n",
              "      <td>2830</td>\n",
              "      <td>125.659194</td>\n",
              "    </tr>\n",
              "    <tr>\n",
              "      <th>7</th>\n",
              "      <td>49214</td>\n",
              "      <td>5410</td>\n",
              "      <td>8864</td>\n",
              "      <td>128.342465</td>\n",
              "    </tr>\n",
              "    <tr>\n",
              "      <th>8</th>\n",
              "      <td>64814</td>\n",
              "      <td>8556</td>\n",
              "      <td>13185</td>\n",
              "      <td>147.215240</td>\n",
              "    </tr>\n",
              "    <tr>\n",
              "      <th>9</th>\n",
              "      <td>134927</td>\n",
              "      <td>12793</td>\n",
              "      <td>4475</td>\n",
              "      <td>160.656102</td>\n",
              "    </tr>\n",
              "    <tr>\n",
              "      <th>10</th>\n",
              "      <td>161991</td>\n",
              "      <td>15617</td>\n",
              "      <td>11643</td>\n",
              "      <td>153.164005</td>\n",
              "    </tr>\n",
              "    <tr>\n",
              "      <th>11</th>\n",
              "      <td>132831</td>\n",
              "      <td>19824</td>\n",
              "      <td>18773</td>\n",
              "      <td>124.212867</td>\n",
              "    </tr>\n",
              "    <tr>\n",
              "      <th>12</th>\n",
              "      <td>181591</td>\n",
              "      <td>8786</td>\n",
              "      <td>10793</td>\n",
              "      <td>163.865662</td>\n",
              "    </tr>\n",
              "    <tr>\n",
              "      <th>13</th>\n",
              "      <td>157180</td>\n",
              "      <td>17511</td>\n",
              "      <td>15194</td>\n",
              "      <td>164.426588</td>\n",
              "    </tr>\n",
              "    <tr>\n",
              "      <th>14</th>\n",
              "      <td>257895</td>\n",
              "      <td>10123</td>\n",
              "      <td>10049</td>\n",
              "      <td>136.674121</td>\n",
              "    </tr>\n",
              "    <tr>\n",
              "      <th>15</th>\n",
              "      <td>274399</td>\n",
              "      <td>11918</td>\n",
              "      <td>8508</td>\n",
              "      <td>152.358247</td>\n",
              "    </tr>\n",
              "    <tr>\n",
              "      <th>16</th>\n",
              "      <td>202548</td>\n",
              "      <td>2682</td>\n",
              "      <td>8984</td>\n",
              "      <td>134.095944</td>\n",
              "    </tr>\n",
              "    <tr>\n",
              "      <th>17</th>\n",
              "      <td>183431</td>\n",
              "      <td>4073</td>\n",
              "      <td>8027</td>\n",
              "      <td>118.940039</td>\n",
              "    </tr>\n",
              "    <tr>\n",
              "      <th>18</th>\n",
              "      <td>11983</td>\n",
              "      <td>12207</td>\n",
              "      <td>15948</td>\n",
              "      <td>129.368606</td>\n",
              "    </tr>\n",
              "    <tr>\n",
              "      <th>19</th>\n",
              "      <td>33260</td>\n",
              "      <td>15481</td>\n",
              "      <td>19401</td>\n",
              "      <td>130.526477</td>\n",
              "    </tr>\n",
              "    <tr>\n",
              "      <th>20</th>\n",
              "      <td>11313</td>\n",
              "      <td>9687</td>\n",
              "      <td>5768</td>\n",
              "      <td>133.402459</td>\n",
              "    </tr>\n",
              "    <tr>\n",
              "      <th>21</th>\n",
              "      <td>90248</td>\n",
              "      <td>3534</td>\n",
              "      <td>6518</td>\n",
              "      <td>118.259665</td>\n",
              "    </tr>\n",
              "    <tr>\n",
              "      <th>22</th>\n",
              "      <td>121763</td>\n",
              "      <td>17081</td>\n",
              "      <td>18716</td>\n",
              "      <td>144.371802</td>\n",
              "    </tr>\n",
              "    <tr>\n",
              "      <th>23</th>\n",
              "      <td>243966</td>\n",
              "      <td>18609</td>\n",
              "      <td>18837</td>\n",
              "      <td>153.686915</td>\n",
              "    </tr>\n",
              "    <tr>\n",
              "      <th>24</th>\n",
              "      <td>141286</td>\n",
              "      <td>8281</td>\n",
              "      <td>13427</td>\n",
              "      <td>118.133883</td>\n",
              "    </tr>\n",
              "    <tr>\n",
              "      <th>25</th>\n",
              "      <td>173044</td>\n",
              "      <td>14346</td>\n",
              "      <td>12965</td>\n",
              "      <td>130.851120</td>\n",
              "    </tr>\n",
              "    <tr>\n",
              "      <th>26</th>\n",
              "      <td>157033</td>\n",
              "      <td>19027</td>\n",
              "      <td>15795</td>\n",
              "      <td>162.461574</td>\n",
              "    </tr>\n",
              "    <tr>\n",
              "      <th>27</th>\n",
              "      <td>215620</td>\n",
              "      <td>11823</td>\n",
              "      <td>6588</td>\n",
              "      <td>150.377450</td>\n",
              "    </tr>\n",
              "    <tr>\n",
              "      <th>28</th>\n",
              "      <td>104385</td>\n",
              "      <td>8817</td>\n",
              "      <td>12520</td>\n",
              "      <td>151.996321</td>\n",
              "    </tr>\n",
              "    <tr>\n",
              "      <th>29</th>\n",
              "      <td>103387</td>\n",
              "      <td>8801</td>\n",
              "      <td>9335</td>\n",
              "      <td>160.548012</td>\n",
              "    </tr>\n",
              "  </tbody>\n",
              "</table>\n",
              "</div>"
            ],
            "text/plain": [
              "    CountAll  CountPositiveReview  CountNegativeReview   StockOpen\n",
              "0     145014                13381                14769  142.293425\n",
              "1     281176                19494                 8061  150.383129\n",
              "2     210040                19843                13941  152.245408\n",
              "3      42657                11870                10785  162.935588\n",
              "4     165595                10452                19579  146.690897\n",
              "5      91121                16369                15832  142.517235\n",
              "6     130699                 3558                 2830  125.659194\n",
              "7      49214                 5410                 8864  128.342465\n",
              "8      64814                 8556                13185  147.215240\n",
              "9     134927                12793                 4475  160.656102\n",
              "10    161991                15617                11643  153.164005\n",
              "11    132831                19824                18773  124.212867\n",
              "12    181591                 8786                10793  163.865662\n",
              "13    157180                17511                15194  164.426588\n",
              "14    257895                10123                10049  136.674121\n",
              "15    274399                11918                 8508  152.358247\n",
              "16    202548                 2682                 8984  134.095944\n",
              "17    183431                 4073                 8027  118.940039\n",
              "18     11983                12207                15948  129.368606\n",
              "19     33260                15481                19401  130.526477\n",
              "20     11313                 9687                 5768  133.402459\n",
              "21     90248                 3534                 6518  118.259665\n",
              "22    121763                17081                18716  144.371802\n",
              "23    243966                18609                18837  153.686915\n",
              "24    141286                 8281                13427  118.133883\n",
              "25    173044                14346                12965  130.851120\n",
              "26    157033                19027                15795  162.461574\n",
              "27    215620                11823                 6588  150.377450\n",
              "28    104385                 8817                12520  151.996321\n",
              "29    103387                 8801                 9335  160.548012"
            ]
          },
          "metadata": {
            "tags": []
          },
          "execution_count": 42
        }
      ]
    },
    {
      "cell_type": "code",
      "metadata": {
        "id": "g34MNp8-jdKL"
      },
      "source": [
        "from sklearn.linear_model import LinearRegression\n",
        "from sklearn.model_selection import train_test_split\n",
        "import time"
      ],
      "execution_count": 43,
      "outputs": []
    },
    {
      "cell_type": "code",
      "metadata": {
        "id": "hagGTd7aQiq1",
        "colab": {
          "base_uri": "https://localhost:8080/"
        },
        "outputId": "cbaef335-7d4b-478b-ea9a-0ed993591d83"
      },
      "source": [
        "#Modelling\n",
        "#Pertama, buat variabel x dan y\n",
        "x = EA_df['CountAll'].values.reshape(-1,1)\n",
        "y = EA_df['StockOpen'].values.reshape(-1,1)\n",
        "#Kedua, kita split data kita menjadi training and testing dengan porsi 80:20\n",
        "x_train, x_test, y_train, y_test = train_test_split(x, y, test_size=0.2)\n",
        "lin_reg = LinearRegression()\n",
        "lin_reg.fit(x_train, y_train)\n",
        "#cari tau nilai slope/koefisien (m) dan intercept (b)\n",
        "print(lin_reg.coef_)\n",
        "print(lin_reg.intercept_)\n",
        "#accuracy score\n",
        "print(\"akurasi: \",lin_reg.score(x_test, y_test))"
      ],
      "execution_count": 46,
      "outputs": [
        {
          "output_type": "stream",
          "text": [
            "[[3.07713508e-05]]\n",
            "[139.92383374]\n",
            "akurasi:  -0.034447842323666045\n",
            "time: 21.1 ms (started: 2021-08-17 10:17:18 +00:00)\n"
          ],
          "name": "stdout"
        }
      ]
    },
    {
      "cell_type": "code",
      "metadata": {
        "colab": {
          "base_uri": "https://localhost:8080/",
          "height": 332
        },
        "id": "v0_98AChRJ-W",
        "outputId": "57dc1ff6-5c92-4e34-b006-d71f0c77860f"
      },
      "source": [
        "import matplotlib.pyplot as plt\n",
        "y_prediksi = lin_reg.predict(x_test)\n",
        "plt.scatter(x_test, y_test)\n",
        "plt.plot(x_test, y_prediksi, c='r')\n",
        "plt.xlabel('All Count')\n",
        "plt.ylabel('Stock Open')\n",
        "plt.title('All Count vs Stock Open')"
      ],
      "execution_count": 47,
      "outputs": [
        {
          "output_type": "execute_result",
          "data": {
            "text/plain": [
              "Text(0.5, 1.0, 'All Count vs Stock Open')"
            ]
          },
          "metadata": {
            "tags": []
          },
          "execution_count": 47
        },
        {
          "output_type": "display_data",
          "data": {
            "image/png": "[encoded data removed]",
            "text/plain": [
              "<Figure size 432x288 with 1 Axes>"
            ]
          },
          "metadata": {
            "tags": [],
            "needs_background": "light"
          }
        },
        {
          "output_type": "stream",
          "text": [
            "time: 215 ms (started: 2021-08-17 10:17:32 +00:00)\n"
          ],
          "name": "stdout"
        }
      ]
    },
    {
      "cell_type": "markdown",
      "metadata": {
        "id": "aUMsqF1KRebL"
      },
      "source": [
        "Prediksi Stock perusahaan EA pada Data Simulasi Menggunakan Metode Regresi Linear dengan PySpark"
      ]
    },
    {
      "cell_type": "code",
      "metadata": {
        "colab": {
          "base_uri": "https://localhost:8080/"
        },
        "id": "FyybkzH3RfOc",
        "outputId": "2d6e3511-9add-42a7-c2e2-5c56d2507513"
      },
      "source": [
        "!pip install pyspark"
      ],
      "execution_count": 32,
      "outputs": [
        {
          "output_type": "stream",
          "text": [
            "Collecting pyspark\n",
            "  Downloading pyspark-3.1.2.tar.gz (212.4 MB)\n",
            "\u001b[K     |████████████████████████████████| 212.4 MB 61 kB/s \n",
            "\u001b[?25hCollecting py4j==0.10.9\n",
            "  Downloading py4j-0.10.9-py2.py3-none-any.whl (198 kB)\n",
            "\u001b[K     |████████████████████████████████| 198 kB 56.3 MB/s \n",
            "\u001b[?25hBuilding wheels for collected packages: pyspark\n",
            "  Building wheel for pyspark (setup.py) ... \u001b[?25l\u001b[?25hdone\n",
            "  Created wheel for pyspark: filename=pyspark-3.1.2-py2.py3-none-any.whl size=212880768 sha256=003f98e95edca23008d07688f12df2c278364c3e531ad2fd7935173b43f82338\n",
            "  Stored in directory: /root/.cache/pip/wheels/a5/0a/c1/9561f6fecb759579a7d863dcd846daaa95f598744e71b02c77\n",
            "Successfully built pyspark\n",
            "Installing collected packages: py4j, pyspark\n",
            "Successfully installed py4j-0.10.9 pyspark-3.1.2\n"
          ],
          "name": "stdout"
        }
      ]
    },
    {
      "cell_type": "code",
      "metadata": {
        "id": "JJzmI7m7R1Af",
        "colab": {
          "base_uri": "https://localhost:8080/"
        },
        "outputId": "3251efed-4673-46f1-86e3-505b4f8df94f"
      },
      "source": [
        "from pyspark import SQLContext, SparkConf, SparkContext\n",
        "from pyspark.sql import SparkSession\n",
        "sc = SparkContext.getOrCreate()\n",
        "if (sc is None):\n",
        "    sc = SparkContext(master=\"local[*]\", appName=\"Linear Regression\")\n",
        "spark = SparkSession(sparkContext=sc)\n",
        "sqlcontext = SQLContext(sc)\n",
        "data = sqlcontext.read.csv('Data_Generate_EA.csv', header = True, inferSchema = True)"
      ],
      "execution_count": 55,
      "outputs": [
        {
          "output_type": "stream",
          "text": [
            "time: 525 ms (started: 2021-08-17 10:22:30 +00:00)\n"
          ],
          "name": "stdout"
        }
      ]
    },
    {
      "cell_type": "code",
      "metadata": {
        "colab": {
          "base_uri": "https://localhost:8080/"
        },
        "id": "mRYR4LRdSJP6",
        "outputId": "1fbbd81d-2bf0-4b75-df31-dee64c264b91"
      },
      "source": [
        "data.show()"
      ],
      "execution_count": 56,
      "outputs": [
        {
          "output_type": "stream",
          "text": [
            "+--------+-------------------+-------------------+-----------+\n",
            "|CountAll|CountPositiveReview|CountNegativeReview|  StockOpen|\n",
            "+--------+-------------------+-------------------+-----------+\n",
            "|  145014|              13381|              14769|142.2934255|\n",
            "|  281176|              19494|               8061|150.3831291|\n",
            "|  210040|              19843|              13941| 152.245408|\n",
            "|   42657|              11870|              10785|162.9355878|\n",
            "|  165595|              10452|              19579|146.6908973|\n",
            "|   91121|              16369|              15832|142.5172347|\n",
            "|  130699|               3558|               2830|125.6591944|\n",
            "|   49214|               5410|               8864|128.3424647|\n",
            "|   64814|               8556|              13185|147.2152399|\n",
            "|  134927|              12793|               4475|160.6561018|\n",
            "|  161991|              15617|              11643|153.1640053|\n",
            "|  132831|              19824|              18773|124.2128667|\n",
            "|  181591|               8786|              10793|163.8656618|\n",
            "|  157180|              17511|              15194|164.4265881|\n",
            "|  257895|              10123|              10049|136.6741214|\n",
            "|  274399|              11918|               8508|152.3582469|\n",
            "|  202548|               2682|               8984|134.0959436|\n",
            "|  183431|               4073|               8027|118.9400391|\n",
            "|   11983|              12207|              15948|129.3686063|\n",
            "|   33260|              15481|              19401|130.5264773|\n",
            "+--------+-------------------+-------------------+-----------+\n",
            "only showing top 20 rows\n",
            "\n",
            "time: 122 ms (started: 2021-08-17 10:22:33 +00:00)\n"
          ],
          "name": "stdout"
        }
      ]
    },
    {
      "cell_type": "code",
      "metadata": {
        "colab": {
          "base_uri": "https://localhost:8080/"
        },
        "id": "CqOzYITZj0rl",
        "outputId": "a82813f5-5888-4b8d-de6c-f4a53e8fc86d"
      },
      "source": [
        "from pyspark.ml.feature import VectorAssembler\n",
        "from pyspark.ml.regression import LinearRegression\n",
        "from pyspark.ml.evaluation import RegressionEvaluator"
      ],
      "execution_count": 58,
      "outputs": [
        {
          "output_type": "stream",
          "text": [
            "time: 1.54 ms (started: 2021-08-17 10:22:48 +00:00)\n"
          ],
          "name": "stdout"
        }
      ]
    },
    {
      "cell_type": "code",
      "metadata": {
        "id": "qavGKOseSrnB",
        "colab": {
          "base_uri": "https://localhost:8080/"
        },
        "outputId": "07ed7300-b996-49f0-fd51-9d5af4fd522f"
      },
      "source": [
        "# defining Salary as our label/predictor variable\n",
        "dataset = data.select(data.CountAll, data.StockOpen.alias('label'))\n",
        "# split data into 70% training and 30% testing data\n",
        "training, test = dataset.randomSplit([0.8, 0.2], seed = 100)\n",
        "# assembler to assemble the features into vector form\n",
        "assembler = VectorAssembler().setInputCols(['CountAll',]).setOutputCol('features')\n",
        "trainingSet = assembler.transform(training)\n",
        "# select only features column and label column since we have already vectorised our features\n",
        "trainingSet = trainingSet.select(\"features\",\"label\")\n",
        "# fit the training set to linear regression model\n",
        "lr = LinearRegression()\n",
        "lr_Model = lr.fit(trainingSet)\n",
        "# assembler to assemble the features into vector form\n",
        "testSet = assembler.transform(test)\n",
        "# select only features column and label column since we have already vectorised our features\n",
        "testSet = testSet.select(\"features\", \"label\")\n",
        "# fit the testing data into our linear regression model\n",
        "testSet = lr_Model.transform(testSet)\n",
        "testSet.show(truncate=False)\n",
        "evaluator = RegressionEvaluator()\n",
        "print(\"akurasi: \",evaluator.evaluate(testSet, {evaluator.metricName: \"r2\"}))"
      ],
      "execution_count": 59,
      "outputs": [
        {
          "output_type": "stream",
          "text": [
            "+----------+-----------+------------------+\n",
            "|features  |label      |prediction        |\n",
            "+----------+-----------+------------------+\n",
            "|[42657.0] |162.9355878|136.59287713035576|\n",
            "|[121763.0]|144.3718015|141.99544466718396|\n",
            "|[141286.0]|118.1338827|143.32877369433106|\n",
            "|[173044.0]|130.8511201|145.49769564506286|\n",
            "|[215620.0]|150.3774497|148.40543608760828|\n",
            "|[281176.0]|150.3831291|152.88260238908111|\n",
            "+----------+-----------+------------------+\n",
            "\n",
            "akurasi:  -0.22370977491690014\n",
            "time: 881 ms (started: 2021-08-17 10:22:53 +00:00)\n"
          ],
          "name": "stdout"
        }
      ]
    },
    {
      "cell_type": "markdown",
      "metadata": {
        "id": "wUI5CMWZXZUD"
      },
      "source": [
        "Prediksi Stock perusahaan EA pada Data Simulasi Crawling dan API Stock  Menggunakan Metode Regresi Linear dengan Library Pandas dan SKLearn"
      ]
    },
    {
      "cell_type": "markdown",
      "metadata": {
        "id": "MQK4iuZ7XZw5"
      },
      "source": [
        "API Stock EA daily: (data dimulai sejak tanggal 7/1/2021)\n",
        "https://www.alphavantage.co/query?function=TIME_SERIES_DAILY_ADJUSTED&symbol=EA&apikey=INSERTYOURKEYHERE&datatype=csv"
      ]
    },
    {
      "cell_type": "code",
      "metadata": {
        "colab": {
          "base_uri": "https://localhost:8080/",
          "height": 1000
        },
        "id": "TkOcpZrkZzRl",
        "outputId": "7d366f3f-6dfc-4161-c3f6-79b9fc75bf3e"
      },
      "source": [
        "EA_daily_df = pd.read_csv('Data_Generated_daily_adjusted_EA.csv').head(30)\n",
        "EA_daily_df"
      ],
      "execution_count": 60,
      "outputs": [
        {
          "output_type": "execute_result",
          "data": {
            "text/html": [
              "<div>\n",
              "<style scoped>\n",
              "    .dataframe tbody tr th:only-of-type {\n",
              "        vertical-align: middle;\n",
              "    }\n",
              "\n",
              "    .dataframe tbody tr th {\n",
              "        vertical-align: top;\n",
              "    }\n",
              "\n",
              "    .dataframe thead th {\n",
              "        text-align: right;\n",
              "    }\n",
              "</style>\n",
              "<table border=\"1\" class=\"dataframe\">\n",
              "  <thead>\n",
              "    <tr style=\"text-align: right;\">\n",
              "      <th></th>\n",
              "      <th>CountAll</th>\n",
              "      <th>CountPositiveReview</th>\n",
              "      <th>CountNegativeReview</th>\n",
              "      <th>StockOpen</th>\n",
              "    </tr>\n",
              "  </thead>\n",
              "  <tbody>\n",
              "    <tr>\n",
              "      <th>0</th>\n",
              "      <td>145014</td>\n",
              "      <td>13381</td>\n",
              "      <td>14769</td>\n",
              "      <td>143.460</td>\n",
              "    </tr>\n",
              "    <tr>\n",
              "      <th>1</th>\n",
              "      <td>281176</td>\n",
              "      <td>19494</td>\n",
              "      <td>8061</td>\n",
              "      <td>143.290</td>\n",
              "    </tr>\n",
              "    <tr>\n",
              "      <th>2</th>\n",
              "      <td>210040</td>\n",
              "      <td>19843</td>\n",
              "      <td>13941</td>\n",
              "      <td>143.540</td>\n",
              "    </tr>\n",
              "    <tr>\n",
              "      <th>3</th>\n",
              "      <td>42657</td>\n",
              "      <td>11870</td>\n",
              "      <td>10785</td>\n",
              "      <td>144.090</td>\n",
              "    </tr>\n",
              "    <tr>\n",
              "      <th>4</th>\n",
              "      <td>165595</td>\n",
              "      <td>10452</td>\n",
              "      <td>19579</td>\n",
              "      <td>141.320</td>\n",
              "    </tr>\n",
              "    <tr>\n",
              "      <th>5</th>\n",
              "      <td>91121</td>\n",
              "      <td>16369</td>\n",
              "      <td>15832</td>\n",
              "      <td>139.550</td>\n",
              "    </tr>\n",
              "    <tr>\n",
              "      <th>6</th>\n",
              "      <td>130699</td>\n",
              "      <td>3558</td>\n",
              "      <td>2830</td>\n",
              "      <td>142.550</td>\n",
              "    </tr>\n",
              "    <tr>\n",
              "      <th>7</th>\n",
              "      <td>49214</td>\n",
              "      <td>5410</td>\n",
              "      <td>8864</td>\n",
              "      <td>143.440</td>\n",
              "    </tr>\n",
              "    <tr>\n",
              "      <th>8</th>\n",
              "      <td>64814</td>\n",
              "      <td>8556</td>\n",
              "      <td>13185</td>\n",
              "      <td>143.310</td>\n",
              "    </tr>\n",
              "    <tr>\n",
              "      <th>9</th>\n",
              "      <td>134927</td>\n",
              "      <td>12793</td>\n",
              "      <td>4475</td>\n",
              "      <td>143.350</td>\n",
              "    </tr>\n",
              "    <tr>\n",
              "      <th>10</th>\n",
              "      <td>161991</td>\n",
              "      <td>15617</td>\n",
              "      <td>11643</td>\n",
              "      <td>142.630</td>\n",
              "    </tr>\n",
              "    <tr>\n",
              "      <th>11</th>\n",
              "      <td>132831</td>\n",
              "      <td>19824</td>\n",
              "      <td>18773</td>\n",
              "      <td>143.050</td>\n",
              "    </tr>\n",
              "    <tr>\n",
              "      <th>12</th>\n",
              "      <td>181591</td>\n",
              "      <td>8786</td>\n",
              "      <td>10793</td>\n",
              "      <td>141.350</td>\n",
              "    </tr>\n",
              "    <tr>\n",
              "      <th>13</th>\n",
              "      <td>157180</td>\n",
              "      <td>17511</td>\n",
              "      <td>15194</td>\n",
              "      <td>143.890</td>\n",
              "    </tr>\n",
              "    <tr>\n",
              "      <th>14</th>\n",
              "      <td>257895</td>\n",
              "      <td>10123</td>\n",
              "      <td>10049</td>\n",
              "      <td>140.065</td>\n",
              "    </tr>\n",
              "    <tr>\n",
              "      <th>15</th>\n",
              "      <td>274399</td>\n",
              "      <td>11918</td>\n",
              "      <td>8508</td>\n",
              "      <td>142.650</td>\n",
              "    </tr>\n",
              "    <tr>\n",
              "      <th>16</th>\n",
              "      <td>202548</td>\n",
              "      <td>2682</td>\n",
              "      <td>8984</td>\n",
              "      <td>145.120</td>\n",
              "    </tr>\n",
              "    <tr>\n",
              "      <th>17</th>\n",
              "      <td>183431</td>\n",
              "      <td>4073</td>\n",
              "      <td>8027</td>\n",
              "      <td>145.060</td>\n",
              "    </tr>\n",
              "    <tr>\n",
              "      <th>18</th>\n",
              "      <td>11983</td>\n",
              "      <td>12207</td>\n",
              "      <td>15948</td>\n",
              "      <td>142.350</td>\n",
              "    </tr>\n",
              "    <tr>\n",
              "      <th>19</th>\n",
              "      <td>33260</td>\n",
              "      <td>15481</td>\n",
              "      <td>19401</td>\n",
              "      <td>143.950</td>\n",
              "    </tr>\n",
              "    <tr>\n",
              "      <th>20</th>\n",
              "      <td>11313</td>\n",
              "      <td>9687</td>\n",
              "      <td>5768</td>\n",
              "      <td>142.840</td>\n",
              "    </tr>\n",
              "    <tr>\n",
              "      <th>21</th>\n",
              "      <td>90248</td>\n",
              "      <td>3534</td>\n",
              "      <td>6518</td>\n",
              "      <td>144.995</td>\n",
              "    </tr>\n",
              "    <tr>\n",
              "      <th>22</th>\n",
              "      <td>121763</td>\n",
              "      <td>17081</td>\n",
              "      <td>18716</td>\n",
              "      <td>142.640</td>\n",
              "    </tr>\n",
              "    <tr>\n",
              "      <th>23</th>\n",
              "      <td>243966</td>\n",
              "      <td>18609</td>\n",
              "      <td>18837</td>\n",
              "      <td>139.520</td>\n",
              "    </tr>\n",
              "    <tr>\n",
              "      <th>24</th>\n",
              "      <td>141286</td>\n",
              "      <td>8281</td>\n",
              "      <td>13427</td>\n",
              "      <td>144.830</td>\n",
              "    </tr>\n",
              "    <tr>\n",
              "      <th>25</th>\n",
              "      <td>173044</td>\n",
              "      <td>14346</td>\n",
              "      <td>12965</td>\n",
              "      <td>136.470</td>\n",
              "    </tr>\n",
              "    <tr>\n",
              "      <th>26</th>\n",
              "      <td>157033</td>\n",
              "      <td>19027</td>\n",
              "      <td>15795</td>\n",
              "      <td>136.710</td>\n",
              "    </tr>\n",
              "    <tr>\n",
              "      <th>27</th>\n",
              "      <td>215620</td>\n",
              "      <td>11823</td>\n",
              "      <td>6588</td>\n",
              "      <td>136.110</td>\n",
              "    </tr>\n",
              "    <tr>\n",
              "      <th>28</th>\n",
              "      <td>104385</td>\n",
              "      <td>8817</td>\n",
              "      <td>12520</td>\n",
              "      <td>137.920</td>\n",
              "    </tr>\n",
              "    <tr>\n",
              "      <th>29</th>\n",
              "      <td>103387</td>\n",
              "      <td>8801</td>\n",
              "      <td>9335</td>\n",
              "      <td>138.110</td>\n",
              "    </tr>\n",
              "  </tbody>\n",
              "</table>\n",
              "</div>"
            ],
            "text/plain": [
              "    CountAll  CountPositiveReview  CountNegativeReview  StockOpen\n",
              "0     145014                13381                14769    143.460\n",
              "1     281176                19494                 8061    143.290\n",
              "2     210040                19843                13941    143.540\n",
              "3      42657                11870                10785    144.090\n",
              "4     165595                10452                19579    141.320\n",
              "5      91121                16369                15832    139.550\n",
              "6     130699                 3558                 2830    142.550\n",
              "7      49214                 5410                 8864    143.440\n",
              "8      64814                 8556                13185    143.310\n",
              "9     134927                12793                 4475    143.350\n",
              "10    161991                15617                11643    142.630\n",
              "11    132831                19824                18773    143.050\n",
              "12    181591                 8786                10793    141.350\n",
              "13    157180                17511                15194    143.890\n",
              "14    257895                10123                10049    140.065\n",
              "15    274399                11918                 8508    142.650\n",
              "16    202548                 2682                 8984    145.120\n",
              "17    183431                 4073                 8027    145.060\n",
              "18     11983                12207                15948    142.350\n",
              "19     33260                15481                19401    143.950\n",
              "20     11313                 9687                 5768    142.840\n",
              "21     90248                 3534                 6518    144.995\n",
              "22    121763                17081                18716    142.640\n",
              "23    243966                18609                18837    139.520\n",
              "24    141286                 8281                13427    144.830\n",
              "25    173044                14346                12965    136.470\n",
              "26    157033                19027                15795    136.710\n",
              "27    215620                11823                 6588    136.110\n",
              "28    104385                 8817                12520    137.920\n",
              "29    103387                 8801                 9335    138.110"
            ]
          },
          "metadata": {
            "tags": []
          },
          "execution_count": 60
        },
        {
          "output_type": "stream",
          "text": [
            "time: 354 ms (started: 2021-08-17 10:23:48 +00:00)\n"
          ],
          "name": "stdout"
        }
      ]
    },
    {
      "cell_type": "code",
      "metadata": {
        "colab": {
          "base_uri": "https://localhost:8080/"
        },
        "id": "LHVCgfQIo1Bw",
        "outputId": "19fc9fc6-aec2-481f-e0b4-fbb3318106de"
      },
      "source": [
        "from sklearn.linear_model import LinearRegression\n",
        "from sklearn.model_selection import train_test_split"
      ],
      "execution_count": 62,
      "outputs": [
        {
          "output_type": "stream",
          "text": [
            "time: 1.12 ms (started: 2021-08-17 10:24:00 +00:00)\n"
          ],
          "name": "stdout"
        }
      ]
    },
    {
      "cell_type": "code",
      "metadata": {
        "id": "DjTmvxZGaQeX",
        "colab": {
          "base_uri": "https://localhost:8080/"
        },
        "outputId": "117ff4cc-a44e-4ef3-ab28-aa04d694c430"
      },
      "source": [
        "#Modelling\n",
        "#Pertama, buat variabel x dan y\n",
        "x = EA_daily_df['CountAll'].values.reshape(-1,1)\n",
        "y = EA_daily_df['StockOpen'].values.reshape(-1,1)\n",
        "\n",
        "#Kedua, kita split data kita menjadi training and testing dengan porsi 80:20\n",
        "x_train, x_test, y_train, y_test = train_test_split(x, y, test_size=0.2)\n",
        "lin_reg = LinearRegression()\n",
        "lin_reg.fit(x_train, y_train)\n",
        "\n",
        "#cari tau nilai slope/koefisien (m) dan intercept (b)\n",
        "print(lin_reg.coef_)\n",
        "print(lin_reg.intercept_)\n",
        "\n",
        "#accuracy score\n",
        "print(\"akurasi : \", lin_reg.score(x_test, y_test))"
      ],
      "execution_count": 63,
      "outputs": [
        {
          "output_type": "stream",
          "text": [
            "[[-6.50845098e-06]]\n",
            "[142.6983072]\n",
            "akurasi :  -0.36671964666507617\n",
            "time: 19.5 ms (started: 2021-08-17 10:24:01 +00:00)\n"
          ],
          "name": "stdout"
        }
      ]
    },
    {
      "cell_type": "code",
      "metadata": {
        "colab": {
          "base_uri": "https://localhost:8080/",
          "height": 332
        },
        "id": "l50CDWChak-W",
        "outputId": "e42c8b48-b476-4138-d86a-36bf172fc201"
      },
      "source": [
        "import matplotlib.pyplot as plt\n",
        "y_prediksi = lin_reg.predict(x_test)\n",
        "plt.scatter(x_test, y_test)\n",
        "plt.plot(x_test, y_prediksi, c='r')\n",
        "plt.xlabel('All Count')\n",
        "plt.ylabel('Stock Open')\n",
        "plt.title('All Count vs Stock Open')"
      ],
      "execution_count": 64,
      "outputs": [
        {
          "output_type": "execute_result",
          "data": {
            "text/plain": [
              "Text(0.5, 1.0, 'All Count vs Stock Open')"
            ]
          },
          "metadata": {
            "tags": []
          },
          "execution_count": 64
        },
        {
          "output_type": "display_data",
          "data": {
            "image/png": "[encoded data removed]",
            "text/plain": [
              "<Figure size 432x288 with 1 Axes>"
            ]
          },
          "metadata": {
            "tags": [],
            "needs_background": "light"
          }
        },
        {
          "output_type": "stream",
          "text": [
            "time: 199 ms (started: 2021-08-17 10:24:10 +00:00)\n"
          ],
          "name": "stdout"
        }
      ]
    },
    {
      "cell_type": "markdown",
      "metadata": {
        "id": "mhsvhW6bbQX3"
      },
      "source": [
        "Prediksi Stock perusahaan EA pada Data Simulasi Crawling dan API Stock Menggunakan Metode Regresi Linear dengan Library PySpark"
      ]
    },
    {
      "cell_type": "code",
      "metadata": {
        "id": "GmQ_wOkjatz2",
        "colab": {
          "base_uri": "https://localhost:8080/"
        },
        "outputId": "092e38d9-676d-45bc-cead-346ac6b83f62"
      },
      "source": [
        "from pyspark import SQLContext, SparkConf, SparkContext\n",
        "from pyspark.sql import SparkSession\n",
        "sc = SparkContext.getOrCreate()\n",
        "if (sc is None):\n",
        "    sc = SparkContext(master=\"local[*]\", appName=\"Linear Regression\")\n",
        "spark = SparkSession(sparkContext=sc)\n",
        "sqlcontext = SQLContext(sc)\n",
        "data = sqlcontext.read.csv('Data_Generated_daily_adjusted_EA.csv', header = True, inferSchema = True)"
      ],
      "execution_count": 65,
      "outputs": [
        {
          "output_type": "stream",
          "text": [
            "time: 275 ms (started: 2021-08-17 10:24:24 +00:00)\n"
          ],
          "name": "stdout"
        }
      ]
    },
    {
      "cell_type": "code",
      "metadata": {
        "colab": {
          "base_uri": "https://localhost:8080/"
        },
        "id": "nU0zfbSdbdmX",
        "outputId": "fe31083b-eaf7-4a32-ff51-d3793402b689"
      },
      "source": [
        "data.show()"
      ],
      "execution_count": 66,
      "outputs": [
        {
          "output_type": "stream",
          "text": [
            "+--------+-------------------+-------------------+---------+\n",
            "|CountAll|CountPositiveReview|CountNegativeReview|StockOpen|\n",
            "+--------+-------------------+-------------------+---------+\n",
            "|  145014|              13381|              14769|   143.46|\n",
            "|  281176|              19494|               8061|   143.29|\n",
            "|  210040|              19843|              13941|   143.54|\n",
            "|   42657|              11870|              10785|   144.09|\n",
            "|  165595|              10452|              19579|   141.32|\n",
            "|   91121|              16369|              15832|   139.55|\n",
            "|  130699|               3558|               2830|   142.55|\n",
            "|   49214|               5410|               8864|   143.44|\n",
            "|   64814|               8556|              13185|   143.31|\n",
            "|  134927|              12793|               4475|   143.35|\n",
            "|  161991|              15617|              11643|   142.63|\n",
            "|  132831|              19824|              18773|   143.05|\n",
            "|  181591|               8786|              10793|   141.35|\n",
            "|  157180|              17511|              15194|   143.89|\n",
            "|  257895|              10123|              10049|  140.065|\n",
            "|  274399|              11918|               8508|   142.65|\n",
            "|  202548|               2682|               8984|   145.12|\n",
            "|  183431|               4073|               8027|   145.06|\n",
            "|   11983|              12207|              15948|   142.35|\n",
            "|   33260|              15481|              19401|   143.95|\n",
            "+--------+-------------------+-------------------+---------+\n",
            "only showing top 20 rows\n",
            "\n",
            "time: 131 ms (started: 2021-08-17 10:24:27 +00:00)\n"
          ],
          "name": "stdout"
        }
      ]
    },
    {
      "cell_type": "code",
      "metadata": {
        "colab": {
          "base_uri": "https://localhost:8080/"
        },
        "id": "ai8F3FZGmgKO",
        "outputId": "3041056f-44eb-45c3-abea-99334560cae2"
      },
      "source": [
        "from pyspark.ml.feature import VectorAssembler\n",
        "from pyspark.ml.regression import LinearRegression\n",
        "from pyspark.ml.evaluation import RegressionEvaluator"
      ],
      "execution_count": 67,
      "outputs": [
        {
          "output_type": "stream",
          "text": [
            "time: 2.28 ms (started: 2021-08-17 10:24:31 +00:00)\n"
          ],
          "name": "stdout"
        }
      ]
    },
    {
      "cell_type": "code",
      "metadata": {
        "id": "eQ_u7GFCbh8c",
        "colab": {
          "base_uri": "https://localhost:8080/"
        },
        "outputId": "42581271-b018-4d4f-f56e-f0ecedb310d0"
      },
      "source": [
        "# defining Salary as our label/predictor variable\n",
        "dataset = data.select(data.CountAll, data.StockOpen.alias('label'))\n",
        "# split data into 70% training and 30% testing data\n",
        "training, test = dataset.randomSplit([0.8, 0.2], seed = 100)\n",
        "# assembler to assemble the features into vector form\n",
        "assembler = VectorAssembler().setInputCols(['CountAll',]).setOutputCol('features')\n",
        "trainingSet = assembler.transform(training)\n",
        "# select only features column and label column since we have already vectorised our features\n",
        "trainingSet = trainingSet.select(\"features\",\"label\")\n",
        "# fit the training set to linear regression model\n",
        "lr = LinearRegression()\n",
        "lr_Model = lr.fit(trainingSet)\n",
        "# assembler to assemble the features into vector form\n",
        "testSet = assembler.transform(test)\n",
        "# select only features column and label column since we have already vectorised our features\n",
        "testSet = testSet.select(\"features\", \"label\")\n",
        "# fit the testing data into our linear regression model\n",
        "testSet = lr_Model.transform(testSet)\n",
        "testSet.show(truncate=False)\n",
        "evaluator = RegressionEvaluator()\n",
        "print(\"akurasi : \",evaluator.evaluate(testSet, {evaluator.metricName: \"r2\"}))"
      ],
      "execution_count": 68,
      "outputs": [
        {
          "output_type": "stream",
          "text": [
            "+----------+------+------------------+\n",
            "|features  |label |prediction        |\n",
            "+----------+------+------------------+\n",
            "|[42657.0] |144.09|142.41351647802094|\n",
            "|[121763.0]|142.64|142.16336457318005|\n",
            "|[141286.0]|144.83|142.10162822400036|\n",
            "|[173044.0]|136.47|142.00120190748913|\n",
            "|[215620.0]|136.11|141.86656651320163|\n",
            "|[281176.0]|143.29|141.65926291709326|\n",
            "+----------+------+------------------+\n",
            "\n",
            "akurasi :  -0.008269146084644019\n",
            "time: 752 ms (started: 2021-08-17 10:24:34 +00:00)\n"
          ],
          "name": "stdout"
        }
      ]
    }
  ]
}