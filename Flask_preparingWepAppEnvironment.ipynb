{
  "nbformat": 4,
  "nbformat_minor": 0,
  "metadata": {
    "colab": {
      "name": "Tugas_Minggu_3_Big_Data_Using_Python_Part2of2.ipynb.ipynb",
      "provenance": [],
      "collapsed_sections": [],
      "authorship_tag": "ABX9TyNXeAZ2BuCUnu4LPQQkof8o",
      "include_colab_link": true
    },
    "kernelspec": {
      "display_name": "Python 3",
      "name": "python3"
    },
    "language_info": {
      "name": "python"
    }
  },
  "cells": [
    {
      "cell_type": "markdown",
      "metadata": {
        "id": "view-in-github",
        "colab_type": "text"
      },
      "source": [
        "<a href=\"https://colab.research.google.com/github/f3rry12/FGA-BigDataTraining/blob/main/Flask_preparingWepAppEnvironment.ipynb\" target=\"_parent\"><img src=\"https://colab.research.google.com/assets/colab-badge.svg\" alt=\"Open In Colab\"/></a>"
      ]
    },
    {
      "cell_type": "markdown",
      "metadata": {
        "id": "Gv6XzCNfraDT"
      },
      "source": [
        "Web App dengan Framework Flask untuk persiapan dalam membangun Lingkungan atau Ekosistem Pengolahan Big Data Using Python\n",
        "\n"
      ]
    },
    {
      "cell_type": "markdown",
      "metadata": {
        "id": "Wr2mAQ0Art8V"
      },
      "source": [
        "Mount"
      ]
    },
    {
      "cell_type": "code",
      "metadata": {
        "colab": {
          "base_uri": "https://localhost:8080/"
        },
        "id": "fc7wGSMgqkMI",
        "outputId": "ad58e45d-0192-40db-a20e-05643ce6538a"
      },
      "source": [
        "from google.colab import drive\n",
        "drive.mount('/content/drive')"
      ],
      "execution_count": 1,
      "outputs": [
        {
          "output_type": "stream",
          "text": [
            "Go to this URL in a browser: https://accounts.google.com/o/oauth2/auth?client_id=947318989803-6bn6qk8qdgf4n4g3pfee6491hc0brc4i.apps.googleusercontent.com&redirect_uri=urn%3aietf%3awg%3aoauth%3a2.0%3aoob&scope=email%20https%3a%2f%2fwww.googleapis.com%2fauth%2fdocs.test%20https%3a%2f%2fwww.googleapis.com%2fauth%2fdrive%20https%3a%2f%2fwww.googleapis.com%2fauth%2fdrive.photos.readonly%20https%3a%2f%2fwww.googleapis.com%2fauth%2fpeopleapi.readonly%20https%3a%2f%2fwww.googleapis.com%2fauth%2fdrive.activity.readonly%20https%3a%2f%2fwww.googleapis.com%2fauth%2fexperimentsandconfigs%20https%3a%2f%2fwww.googleapis.com%2fauth%2fphotos.native&response_type=code\n",
            "\n",
            "Enter your authorization code:\n",
            "4/1AX4XfWj8xZYranWtGUDB_7n1hCjdF7HoFAE9LFFc6AhOeZekkOFU4HjkuGs\n",
            "Mounted at /content/drive\n"
          ],
          "name": "stdout"
        }
      ]
    },
    {
      "cell_type": "code",
      "metadata": {
        "colab": {
          "base_uri": "https://localhost:8080/"
        },
        "id": "LQQBbjY8gxxC",
        "outputId": "0ec2225d-3ca8-4c4b-abbf-5ac3df5a2e77"
      },
      "source": [
        "import os\n",
        "os.chdir(\"/content/drive/My Drive/FGA Big Data Using Python - Kelas B - utk Peserta/Link Tempat Upload Tugas Minggu ke-3 Big Data Using Python Kelas B/Ferry Abu Darrin Al Ghifari_01123956151-24\")\n",
        "!pwd"
      ],
      "execution_count": 2,
      "outputs": [
        {
          "output_type": "stream",
          "text": [
            "/content/drive/.shortcut-targets-by-id/1XiNT60qajEv0-xmg6AS66hDsF00Wmpau/FGA Big Data Using Python - Kelas B - utk Peserta/Link Tempat Upload Tugas Minggu ke-3 Big Data Using Python Kelas B/Ferry Abu Darrin Al Ghifari_01123956151-24\n"
          ],
          "name": "stdout"
        }
      ]
    },
    {
      "cell_type": "code",
      "metadata": {
        "colab": {
          "base_uri": "https://localhost:8080/"
        },
        "id": "2H6Z00iTt_C6",
        "outputId": "c3d7242b-35cd-485a-8a1e-021b6c0fb372"
      },
      "source": [
        "!ls"
      ],
      "execution_count": 6,
      "outputs": [
        {
          "output_type": "stream",
          "text": [
            "Data_Generate_EA.csv  templates\n",
            "fga_big_data.db       Tugas_Minggu_3_Big_Data_Using_Python_Part1of2.ipynb.ipynb\n",
            "static\t\t      Tugas_Minggu_3_Big_Data_Using_Python_Part2of2.ipynb.ipynb\n"
          ],
          "name": "stdout"
        }
      ]
    },
    {
      "cell_type": "code",
      "metadata": {
        "colab": {
          "base_uri": "https://localhost:8080/",
          "height": 972
        },
        "id": "eTuF0IxvuEO7",
        "outputId": "8a26d996-9b5b-4db8-f6c6-3020597b20ee"
      },
      "source": [
        "!pip install flask-ngrok\n",
        "!pip install flask==0.12.2  # Newer versions of flask don't work in Colab\n",
        "                            # See https://github.com/plotly/dash/issues/257\n",
        "\n",
        "# !pip install flask\n",
        "!pip install SQLAlchemy\n",
        "!pip install Flask-SQLAlchemy"
      ],
      "execution_count": 7,
      "outputs": [
        {
          "output_type": "stream",
          "text": [
            "Collecting flask-ngrok\n",
            "  Downloading flask_ngrok-0.0.25-py3-none-any.whl (3.1 kB)\n",
            "Requirement already satisfied: Flask>=0.8 in /usr/local/lib/python3.7/dist-packages (from flask-ngrok) (1.1.4)\n",
            "Requirement already satisfied: requests in /usr/local/lib/python3.7/dist-packages (from flask-ngrok) (2.23.0)\n",
            "Requirement already satisfied: click<8.0,>=5.1 in /usr/local/lib/python3.7/dist-packages (from Flask>=0.8->flask-ngrok) (7.1.2)\n",
            "Requirement already satisfied: itsdangerous<2.0,>=0.24 in /usr/local/lib/python3.7/dist-packages (from Flask>=0.8->flask-ngrok) (1.1.0)\n",
            "Requirement already satisfied: Jinja2<3.0,>=2.10.1 in /usr/local/lib/python3.7/dist-packages (from Flask>=0.8->flask-ngrok) (2.11.3)\n",
            "Requirement already satisfied: Werkzeug<2.0,>=0.15 in /usr/local/lib/python3.7/dist-packages (from Flask>=0.8->flask-ngrok) (1.0.1)\n",
            "Requirement already satisfied: MarkupSafe>=0.23 in /usr/local/lib/python3.7/dist-packages (from Jinja2<3.0,>=2.10.1->Flask>=0.8->flask-ngrok) (2.0.1)\n",
            "Requirement already satisfied: certifi>=2017.4.17 in /usr/local/lib/python3.7/dist-packages (from requests->flask-ngrok) (2021.5.30)\n",
            "Requirement already satisfied: idna<3,>=2.5 in /usr/local/lib/python3.7/dist-packages (from requests->flask-ngrok) (2.10)\n",
            "Requirement already satisfied: urllib3!=1.25.0,!=1.25.1,<1.26,>=1.21.1 in /usr/local/lib/python3.7/dist-packages (from requests->flask-ngrok) (1.24.3)\n",
            "Requirement already satisfied: chardet<4,>=3.0.2 in /usr/local/lib/python3.7/dist-packages (from requests->flask-ngrok) (3.0.4)\n",
            "Installing collected packages: flask-ngrok\n",
            "Successfully installed flask-ngrok-0.0.25\n",
            "Collecting flask==0.12.2\n",
            "  Downloading Flask-0.12.2-py2.py3-none-any.whl (83 kB)\n",
            "\u001b[K     |████████████████████████████████| 83 kB 1.3 MB/s \n",
            "\u001b[?25hRequirement already satisfied: click>=2.0 in /usr/local/lib/python3.7/dist-packages (from flask==0.12.2) (7.1.2)\n",
            "Requirement already satisfied: itsdangerous>=0.21 in /usr/local/lib/python3.7/dist-packages (from flask==0.12.2) (1.1.0)\n",
            "Requirement already satisfied: Werkzeug>=0.7 in /usr/local/lib/python3.7/dist-packages (from flask==0.12.2) (1.0.1)\n",
            "Requirement already satisfied: Jinja2>=2.4 in /usr/local/lib/python3.7/dist-packages (from flask==0.12.2) (2.11.3)\n",
            "Requirement already satisfied: MarkupSafe>=0.23 in /usr/local/lib/python3.7/dist-packages (from Jinja2>=2.4->flask==0.12.2) (2.0.1)\n",
            "Installing collected packages: flask\n",
            "  Attempting uninstall: flask\n",
            "    Found existing installation: Flask 1.1.4\n",
            "    Uninstalling Flask-1.1.4:\n",
            "      Successfully uninstalled Flask-1.1.4\n",
            "Successfully installed flask-0.12.2\n"
          ],
          "name": "stdout"
        },
        {
          "output_type": "display_data",
          "data": {
            "application/vnd.colab-display-data+json": {
              "pip_warning": {
                "packages": [
                  "flask"
                ]
              }
            }
          },
          "metadata": {
            "tags": []
          }
        },
        {
          "output_type": "stream",
          "text": [
            "Requirement already satisfied: SQLAlchemy in /usr/local/lib/python3.7/dist-packages (1.4.20)\n",
            "Requirement already satisfied: importlib-metadata in /usr/local/lib/python3.7/dist-packages (from SQLAlchemy) (4.6.1)\n",
            "Requirement already satisfied: greenlet!=0.4.17 in /usr/local/lib/python3.7/dist-packages (from SQLAlchemy) (1.1.0)\n",
            "Requirement already satisfied: zipp>=0.5 in /usr/local/lib/python3.7/dist-packages (from importlib-metadata->SQLAlchemy) (3.5.0)\n",
            "Requirement already satisfied: typing-extensions>=3.6.4 in /usr/local/lib/python3.7/dist-packages (from importlib-metadata->SQLAlchemy) (3.7.4.3)\n",
            "Requirement already satisfied: Flask-SQLAlchemy in /usr/local/lib/python3.7/dist-packages (2.5.1)\n",
            "Requirement already satisfied: SQLAlchemy>=0.8.0 in /usr/local/lib/python3.7/dist-packages (from Flask-SQLAlchemy) (1.4.20)\n",
            "Requirement already satisfied: Flask>=0.10 in /usr/local/lib/python3.7/dist-packages (from Flask-SQLAlchemy) (0.12.2)\n",
            "Requirement already satisfied: click>=2.0 in /usr/local/lib/python3.7/dist-packages (from Flask>=0.10->Flask-SQLAlchemy) (7.1.2)\n",
            "Requirement already satisfied: Werkzeug>=0.7 in /usr/local/lib/python3.7/dist-packages (from Flask>=0.10->Flask-SQLAlchemy) (1.0.1)\n",
            "Requirement already satisfied: itsdangerous>=0.21 in /usr/local/lib/python3.7/dist-packages (from Flask>=0.10->Flask-SQLAlchemy) (1.1.0)\n",
            "Requirement already satisfied: Jinja2>=2.4 in /usr/local/lib/python3.7/dist-packages (from Flask>=0.10->Flask-SQLAlchemy) (2.11.3)\n",
            "Requirement already satisfied: MarkupSafe>=0.23 in /usr/local/lib/python3.7/dist-packages (from Jinja2>=2.4->Flask>=0.10->Flask-SQLAlchemy) (2.0.1)\n",
            "Requirement already satisfied: greenlet!=0.4.17 in /usr/local/lib/python3.7/dist-packages (from SQLAlchemy>=0.8.0->Flask-SQLAlchemy) (1.1.0)\n",
            "Requirement already satisfied: importlib-metadata in /usr/local/lib/python3.7/dist-packages (from SQLAlchemy>=0.8.0->Flask-SQLAlchemy) (4.6.1)\n",
            "Requirement already satisfied: typing-extensions>=3.6.4 in /usr/local/lib/python3.7/dist-packages (from importlib-metadata->SQLAlchemy>=0.8.0->Flask-SQLAlchemy) (3.7.4.3)\n",
            "Requirement already satisfied: zipp>=0.5 in /usr/local/lib/python3.7/dist-packages (from importlib-metadata->SQLAlchemy>=0.8.0->Flask-SQLAlchemy) (3.5.0)\n"
          ],
          "name": "stdout"
        }
      ]
    },
    {
      "cell_type": "code",
      "metadata": {
        "colab": {
          "base_uri": "https://localhost:8080/"
        },
        "id": "pFHAmenUuOGp",
        "outputId": "829a129d-a27d-4224-dc9c-8513ca8d6ef3"
      },
      "source": [
        "# flask_ngrok_example.py\n",
        "from flask import Flask,render_template,flash, redirect,url_for,session,logging,request\n",
        "from flask_sqlalchemy import SQLAlchemy\n",
        "from flask_ngrok import run_with_ngrok\n",
        "\n",
        "# !pip install SQLAlchemy\n",
        "# !pip install Flask-SQLAlchemy\n",
        "\n",
        "# app = Flask(__name__)\n",
        "# app = Flask(__name__, static_url_path='/static')\n",
        "app = Flask(__name__, static_folder='static')\n",
        "app.secret_key = 'FGAferryNotSecret'\n",
        "run_with_ngrok(app)  # Start ngrok when app is run\n",
        "\n",
        "# app = Flask(__name__)\n",
        "app.config['SQLALCHEMY_DATABASE_URI'] = 'sqlite:////fga_big_data.db'\n",
        "db = SQLAlchemy(app)\n",
        "\n",
        "class user(db.Model):\n",
        "  # __tablename__ = 'user'\n",
        "  id = db.Column(db.Integer, primary_key=True)\n",
        "  # Mail \tPassword \tName \tLevel\n",
        "  Mail = db.Column(db.Text) # sbg Username\n",
        "  Password = db.Column(db.Text)\n",
        "  Name = db.Column(db.Text)\n",
        "  Level = db.Column(db.Text)\n",
        "\n",
        "  # username = Mail\n",
        "  # password = Password\n",
        "\n",
        "@app.route(\"/\")\n",
        "def index():\n",
        "    return render_template(\"index.html\")\n",
        "\n",
        "@app.route(\"/logout\",methods=[\"GET\", \"POST\"])\n",
        "def logout():\n",
        "  session.pop('mail', None)\n",
        "  session.pop('name', None)\n",
        "  return redirect(url_for(\"index\"))\n",
        "\n",
        "@app.route(\"/login\",methods=[\"GET\", \"POST\"])\n",
        "def login():\n",
        "    msg = \"\"\n",
        "    if request.method == \"POST\":\n",
        "        mail = request.form[\"mail\"]\n",
        "        passw = request.form[\"passw\"]\n",
        "        \n",
        "        login = user.query.filter_by(Mail=mail, Password=passw).first()\n",
        "        print(login)\n",
        "        if login is not None:\n",
        "            session['name'] = login.Name\n",
        "            session['mail'] = login.Mail\n",
        "\n",
        "            return redirect(url_for(\"bigdataApps\"))\n",
        "        elif login is None:\n",
        "            msg = \"Masukkan Username (Email) dan Password dgn Benar\"\n",
        "            print(msg)\n",
        "\n",
        "    return render_template(\"login.html\", msg = msg)\n",
        "\n",
        "@app.route(\"/register\", methods=[\"GET\", \"POST\"])\n",
        "def register():\n",
        "    if request.method == \"POST\":\n",
        "        mail = request.form['mail']\n",
        "        uname = request.form['uname']\n",
        "        passw = request.form['passw']\n",
        "\n",
        "        register = user(Mail = mail, Name = uname, Password = passw)\n",
        "        # register = user(Mail = mail, Password = passw)\n",
        "        db.session.add(register)\n",
        "        db.session.commit()\n",
        "\n",
        "        return redirect(url_for(\"login\"))\n",
        "    return render_template(\"register.html\")\n",
        "\n",
        "@app.route(\"/bigdataApps\", methods=[\"GET\", \"POST\"])\n",
        "def bigdataApps():\n",
        "  if request.method == 'POST':\n",
        "    import pandas as pd\n",
        "    import numpy as np\n",
        "    dataset = request.FILES['inputDataset']\n",
        "    # dataset = request.files['inputDataset']\n",
        "    #dataset = 'dataset_dump.csv'\n",
        "\n",
        "    persentase_data_training = 90\n",
        "    banyak_fitur = int(request.POST['banyakFitur'])\n",
        "    banyak_hidden_neuron = int(request.POST['banyakHiddenNeuron'])\n",
        "    dataset = pd.read_csv(dataset, delimiter=';', names = ['Tanggal', 'Harga'], usecols=['Harga'])\n",
        "    minimum = int(dataset.min()-10000)\n",
        "    maksimum = int(dataset.max()+10000)\n",
        "    new_banyak_fitur = banyak_fitur + 1\n",
        "    hasil_fitur = []\n",
        "    for i in range((len(dataset)-new_banyak_fitur)+1):\n",
        "      kolom = []\n",
        "      j = i\n",
        "      while j < (i+new_banyak_fitur):\n",
        "        kolom.append(dataset.values[j][0])\n",
        "        j += 1\n",
        "      hasil_fitur.append(kolom)\n",
        "    hasil_fitur = np.array(hasil_fitur)\n",
        "    data_normalisasi = (hasil_fitur - minimum)/(maksimum - minimum)\n",
        "    data_training = data_normalisasi[:int(persentase_data_training*len(data_normalisasi)/100)]\n",
        "    data_testing = data_normalisasi[int(persentase_data_training*len(data_normalisasi)/100):]\n",
        "    \n",
        "    #Training\n",
        "    bobot = np.random.rand(banyak_hidden_neuron, banyak_fitur)\n",
        "    bias = np.random.rand(banyak_hidden_neuron)\n",
        "    h = 1/(1 + np.exp(-(np.dot(data_training[:, :banyak_fitur], np.transpose(bobot)) + bias)))\n",
        "    h_plus = np.dot(np.linalg.inv(np.dot(np.transpose(h),h)),np.transpose(h))\n",
        "    output_weight = np.dot(h_plus, data_training[:, banyak_fitur])\n",
        "    \n",
        "    #Testing\n",
        "    h = 1/(1 + np.exp(-(np.dot(data_testing[:, :banyak_fitur], np.transpose(bobot)) + bias)))\n",
        "    predict = np.dot(h, output_weight)\n",
        "    predict = predict * (maksimum - minimum) + minimum\n",
        "    \n",
        "    #MAPE\n",
        "    aktual = np.array(hasil_fitur[int(persentase_data_training*len(data_normalisasi)/100):, banyak_fitur])\n",
        "    mape = np.sum(np.abs(((aktual - predict)/aktual)*100))/len(predict)\n",
        "    return render_template('bigdataApps.html', {\n",
        "        'y_aktual' : list(aktual),\n",
        "        'y_prediksi' : list(predict),\n",
        "        'mape' : mape\n",
        "        })\n",
        "  else:\n",
        "    return render_template('bigdataApps.html')\n",
        "\n",
        "if __name__ == '__main__':\n",
        "  db.create_all()\n",
        "  app.run()  # If address is in use, may need to terminate other sessions:\n",
        "             # Runtime > Manage Sessions > Terminate Other Sessions"
      ],
      "execution_count": 23,
      "outputs": [
        {
          "output_type": "stream",
          "text": [
            " * Serving Flask app \"__main__\" (lazy loading)\n",
            " * Environment: production\n",
            "\u001b[31m   WARNING: This is a development server. Do not use it in a production deployment.\u001b[0m\n",
            "\u001b[2m   Use a production WSGI server instead.\u001b[0m\n",
            " * Debug mode: off\n"
          ],
          "name": "stdout"
        },
        {
          "output_type": "stream",
          "text": [
            "/usr/local/lib/python3.7/dist-packages/flask_sqlalchemy/__init__.py:873: FSADeprecationWarning: SQLALCHEMY_TRACK_MODIFICATIONS adds significant overhead and will be disabled by default in the future.  Set it to True or False to suppress this warning.\n",
            "  'SQLALCHEMY_TRACK_MODIFICATIONS adds significant overhead and '\n",
            " * Running on http://127.0.0.1:5000/ (Press CTRL+C to quit)\n"
          ],
          "name": "stderr"
        },
        {
          "output_type": "stream",
          "text": [
            " * Running on http://c34937fa0d20.ngrok.io\n",
            " * Traffic stats available on http://127.0.0.1:4040\n"
          ],
          "name": "stdout"
        },
        {
          "output_type": "stream",
          "text": [
            "127.0.0.1 - - [09/Aug/2021 00:38:48] \"\u001b[37mGET / HTTP/1.1\u001b[0m\" 200 -\n",
            "127.0.0.1 - - [09/Aug/2021 00:38:50] \"\u001b[33mGET /favicon.ico HTTP/1.1\u001b[0m\" 404 -\n",
            "127.0.0.1 - - [09/Aug/2021 00:38:52] \"\u001b[37mGET /login HTTP/1.1\u001b[0m\" 200 -\n",
            "127.0.0.1 - - [09/Aug/2021 00:38:58] \"\u001b[37mGET /register HTTP/1.1\u001b[0m\" 200 -\n",
            "127.0.0.1 - - [09/Aug/2021 00:39:04] \"\u001b[37mGET /login HTTP/1.1\u001b[0m\" 200 -\n",
            "127.0.0.1 - - [09/Aug/2021 00:39:19] \"\u001b[32mPOST /login HTTP/1.1\u001b[0m\" 302 -\n"
          ],
          "name": "stderr"
        },
        {
          "output_type": "stream",
          "text": [
            "<user 1>\n"
          ],
          "name": "stdout"
        },
        {
          "output_type": "stream",
          "text": [
            "127.0.0.1 - - [09/Aug/2021 00:39:19] \"\u001b[37mGET /bigdataApps HTTP/1.1\u001b[0m\" 200 -\n",
            "127.0.0.1 - - [09/Aug/2021 00:39:20] \"\u001b[37mGET /static/css/chartist-plugin-tooltip.css HTTP/1.1\u001b[0m\" 200 -\n",
            "127.0.0.1 - - [09/Aug/2021 00:39:20] \"\u001b[37mGET /static/css/jquery.toast.css HTTP/1.1\u001b[0m\" 200 -\n",
            "127.0.0.1 - - [09/Aug/2021 00:39:20] \"\u001b[37mGET /static/css/sidebar-nav.min.css HTTP/1.1\u001b[0m\" 200 -\n",
            "127.0.0.1 - - [09/Aug/2021 00:39:20] \"\u001b[37mGET /static/css/morris.css HTTP/1.1\u001b[0m\" 200 -\n",
            "127.0.0.1 - - [09/Aug/2021 00:39:20] \"\u001b[37mGET /static/css/bootstrap.min.css HTTP/1.1\u001b[0m\" 200 -\n",
            "127.0.0.1 - - [09/Aug/2021 00:39:20] \"\u001b[37mGET /static/css/chartist.min.css HTTP/1.1\u001b[0m\" 200 -\n",
            "127.0.0.1 - - [09/Aug/2021 00:39:20] \"\u001b[37mGET /static/css/fullcalendar.css HTTP/1.1\u001b[0m\" 200 -\n",
            "127.0.0.1 - - [09/Aug/2021 00:39:20] \"\u001b[37mGET /static/css/animate.css HTTP/1.1\u001b[0m\" 200 -\n",
            "127.0.0.1 - - [09/Aug/2021 00:39:20] \"\u001b[37mGET /static/css/style.css HTTP/1.1\u001b[0m\" 200 -\n",
            "127.0.0.1 - - [09/Aug/2021 00:39:20] \"\u001b[37mGET /static/css/spinners.css HTTP/1.1\u001b[0m\" 200 -\n",
            "127.0.0.1 - - [09/Aug/2021 00:39:20] \"\u001b[37mGET /static/css/blue-dark.css HTTP/1.1\u001b[0m\" 200 -\n",
            "127.0.0.1 - - [09/Aug/2021 00:39:20] \"\u001b[37mGET /static/js/jquery.min.js HTTP/1.1\u001b[0m\" 200 -\n",
            "127.0.0.1 - - [09/Aug/2021 00:39:21] \"\u001b[37mGET /static/js/jquery.sparkline.min.js HTTP/1.1\u001b[0m\" 200 -\n",
            "127.0.0.1 - - [09/Aug/2021 00:39:21] \"\u001b[37mGET /static/js/script.js HTTP/1.1\u001b[0m\" 200 -\n",
            "127.0.0.1 - - [09/Aug/2021 00:39:21] \"\u001b[37mGET /static/js/bootstrap.min.js HTTP/1.1\u001b[0m\" 200 -\n",
            "127.0.0.1 - - [09/Aug/2021 00:39:21] \"\u001b[37mGET /static/js/sidebar-nav.min.js HTTP/1.1\u001b[0m\" 200 -\n",
            "127.0.0.1 - - [09/Aug/2021 00:39:21] \"\u001b[37mGET /static/js/jquery.slimscroll.js HTTP/1.1\u001b[0m\" 200 -\n",
            "127.0.0.1 - - [09/Aug/2021 00:39:21] \"\u001b[37mGET /static/js/waves.js HTTP/1.1\u001b[0m\" 200 -\n",
            "127.0.0.1 - - [09/Aug/2021 00:39:22] \"\u001b[37mGET /static/js/morris.js HTTP/1.1\u001b[0m\" 200 -\n",
            "127.0.0.1 - - [09/Aug/2021 00:39:22] \"\u001b[37mGET /static/js/chartist.min.js HTTP/1.1\u001b[0m\" 200 -\n",
            "127.0.0.1 - - [09/Aug/2021 00:39:22] \"\u001b[37mGET /static/js/raphael-min.js HTTP/1.1\u001b[0m\" 200 -\n",
            "127.0.0.1 - - [09/Aug/2021 00:39:22] \"\u001b[37mGET /static/js/chartist-plugin-tooltip.min.js HTTP/1.1\u001b[0m\" 200 -\n",
            "127.0.0.1 - - [09/Aug/2021 00:39:22] \"\u001b[37mGET /static/js/moment.js HTTP/1.1\u001b[0m\" 200 -\n",
            "127.0.0.1 - - [09/Aug/2021 00:39:22] \"\u001b[37mGET /static/js/fullcalendar.min.js HTTP/1.1\u001b[0m\" 200 -\n",
            "127.0.0.1 - - [09/Aug/2021 00:39:22] \"\u001b[37mGET /static/js/cal-init.js HTTP/1.1\u001b[0m\" 200 -\n",
            "127.0.0.1 - - [09/Aug/2021 00:39:22] \"\u001b[37mGET /static/js/custom.min.js HTTP/1.1\u001b[0m\" 200 -\n",
            "127.0.0.1 - - [09/Aug/2021 00:39:22] \"\u001b[37mGET /static/js/dashboard1.js HTTP/1.1\u001b[0m\" 200 -\n",
            "127.0.0.1 - - [09/Aug/2021 00:39:22] \"\u001b[37mGET /static/js/cbpFWTabs.js HTTP/1.1\u001b[0m\" 200 -\n",
            "127.0.0.1 - - [09/Aug/2021 00:39:22] \"\u001b[37mGET /static/js/jquery.toast.js HTTP/1.1\u001b[0m\" 200 -\n",
            "127.0.0.1 - - [09/Aug/2021 00:39:22] \"\u001b[37mGET /static/js/jQuery.style.switcher.js HTTP/1.1\u001b[0m\" 200 -\n",
            "127.0.0.1 - - [09/Aug/2021 00:39:22] \"\u001b[37mGET /static/js/highcharts.js HTTP/1.1\u001b[0m\" 200 -\n",
            "127.0.0.1 - - [09/Aug/2021 00:39:22] \"\u001b[37mGET /static/js/jasny-bootstrap.js HTTP/1.1\u001b[0m\" 200 -\n",
            "127.0.0.1 - - [09/Aug/2021 00:39:22] \"\u001b[37mGET /static/css/icons/font-awesome/css/fontawesome-all.css HTTP/1.1\u001b[0m\" 200 -\n",
            "127.0.0.1 - - [09/Aug/2021 00:39:23] \"\u001b[37mGET /static/css/icons/themify-icons/themify-icons.css HTTP/1.1\u001b[0m\" 200 -\n",
            "127.0.0.1 - - [09/Aug/2021 00:39:23] \"\u001b[37mGET /static/css/icons/weather-icons/css/weather-icons.min.css HTTP/1.1\u001b[0m\" 200 -\n",
            "127.0.0.1 - - [09/Aug/2021 00:39:23] \"\u001b[37mGET /static/css/icons/simple-line-icons/css/simple-line-icons.css HTTP/1.1\u001b[0m\" 200 -\n",
            "127.0.0.1 - - [09/Aug/2021 00:39:23] \"\u001b[37mGET /static/css/icons/linea-icons/linea.css HTTP/1.1\u001b[0m\" 200 -\n",
            "127.0.0.1 - - [09/Aug/2021 00:39:23] \"\u001b[37mGET /static/css/icons/material-design-iconic-font/css/materialdesignicons.min.css HTTP/1.1\u001b[0m\" 200 -\n",
            "127.0.0.1 - - [09/Aug/2021 00:39:24] \"\u001b[33mGET /plugins/images/users/arijit.jpg HTTP/1.1\u001b[0m\" 404 -\n",
            "127.0.0.1 - - [09/Aug/2021 00:39:24] \"\u001b[33mGET /plugins/images/users/sonu.jpg HTTP/1.1\u001b[0m\" 404 -\n",
            "127.0.0.1 - - [09/Aug/2021 00:39:24] \"\u001b[37mGET /static/img/filkom1.png HTTP/1.1\u001b[0m\" 200 -\n",
            "127.0.0.1 - - [09/Aug/2021 00:39:24] \"\u001b[33mGET /plugins/images/users/pawandeep.jpg HTTP/1.1\u001b[0m\" 404 -\n",
            "127.0.0.1 - - [09/Aug/2021 00:39:24] \"\u001b[37mGET /static/img/ub.png HTTP/1.1\u001b[0m\" 200 -\n",
            "127.0.0.1 - - [09/Aug/2021 00:39:24] \"\u001b[37mGET /static/img/guest.png HTTP/1.1\u001b[0m\" 200 -\n",
            "127.0.0.1 - - [09/Aug/2021 00:39:24] \"\u001b[37mGET /static/css/icons/material-design-iconic-font/fonts/materialdesignicons-webfont.woff2?v=1.8.36 HTTP/1.1\u001b[0m\" 200 -\n",
            "127.0.0.1 - - [09/Aug/2021 00:39:24] \"\u001b[37mGET /static/css/icons/font-awesome/webfonts/fa-solid-900.woff2 HTTP/1.1\u001b[0m\" 200 -\n",
            "127.0.0.1 - - [09/Aug/2021 00:39:24] \"\u001b[37mGET /static/css/icons/themify-icons/fonts/themify.woff?-fvbane HTTP/1.1\u001b[0m\" 200 -\n"
          ],
          "name": "stderr"
        }
      ]
    }
  ]
}