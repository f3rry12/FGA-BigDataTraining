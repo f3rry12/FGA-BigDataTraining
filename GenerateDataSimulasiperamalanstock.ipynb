{
  "nbformat": 4,
  "nbformat_minor": 0,
  "metadata": {
    "colab": {
      "name": "peramalanstock.ipynb",
      "provenance": [],
      "collapsed_sections": [],
      "authorship_tag": "ABX9TyO7RSAA1MPBSlUpFRm3EDzq",
      "include_colab_link": true
    },
    "kernelspec": {
      "name": "python3",
      "display_name": "Python 3"
    },
    "language_info": {
      "name": "python"
    }
  },
  "cells": [
    {
      "cell_type": "markdown",
      "metadata": {
        "id": "view-in-github",
        "colab_type": "text"
      },
      "source": [
        "<a href=\"https://colab.research.google.com/github/f3rry12/FGA-BigDataTraining/blob/main/GenerateDataSimulasiperamalanstock.ipynb\" target=\"_parent\"><img src=\"https://colab.research.google.com/assets/colab-badge.svg\" alt=\"Open In Colab\"/></a>"
      ]
    },
    {
      "cell_type": "markdown",
      "metadata": {
        "id": "VgkJgO2sFepK"
      },
      "source": [
        "Pengembangan Big Data App untuk Prediksi Stock perusahaan EA pada Data Simulasi Trending dan Query Scrapping Twitter"
      ]
    },
    {
      "cell_type": "code",
      "metadata": {
        "colab": {
          "base_uri": "https://localhost:8080/",
          "height": 497
        },
        "id": "8K9AC6AdE16G",
        "outputId": "cce0d5b8-c94b-4f83-861a-10828e2b82b5"
      },
      "source": [
        "import datetime\n",
        "import pandas as pd\n",
        "import numpy as np\n",
        "\n",
        "kolomFitur_X_plus_Target_Y = ['Count All (X1)','Count Positive Review (X2)', 'Count Negative Review (X3)','Stock Open (Y)']\n",
        "\n",
        "# Interval atau Variasi nilai fitur\n",
        "CountAll = [5000,303500]\n",
        "CountPos = [2500,20000]\n",
        "CountNeg = [2500,20000]\n",
        "labelTargetY = [110.0,165.0]\n",
        "\n",
        "# set bykData = 3*np.power(10,7)\n",
        "bykData = 10000000\n",
        "bykFitur = len(kolomFitur_X_plus_Target_Y)-1\n",
        "\n",
        "print('Banyak Data = ', bykData)\n",
        "print('Banyak Fitur = ', bykFitur)\n",
        "\n",
        "# generate isi dataset\n",
        "content_dataGenerate = np.array([np.arange(bykData)]*(bykFitur+1)).T\n",
        "df_gen = pd.DataFrame(content_dataGenerate, columns=kolomFitur_X_plus_Target_Y)\n",
        "\n",
        "# set secara random nilai Fitur untuk generate data\n",
        "df_gen ['Count All (X1)'] = np.random.randint(CountAll[0], CountAll[1], df_gen.shape[0])\n",
        "df_gen ['Count Positive Review (X2)'] = np.random.randint(CountPos[0], CountPos[1], df_gen.shape[0])\n",
        "df_gen ['Count Negative Review (X3)'] = np.random.randint(CountNeg[0], CountNeg[1], df_gen.shape[0])\n",
        "df_gen ['Stock Open (Y)'] = np.random.uniform(labelTargetY[0], labelTargetY[1], df_gen.shape[0])\n",
        "\n",
        "# save dataframe generate ke *.csv\n",
        "file_name_data_generate = 'Data_Generate_EA.csv'\n",
        "df_gen.to_csv(file_name_data_generate, encoding='utf-8', index=False)\n",
        "\n",
        "# read file *.csv dan tampilkan\n",
        "data_generate = pd.read_csv(file_name_data_generate)\n",
        "\n",
        "# Menampilkan data\n",
        "print('\\nMenampilkan hasil generate dataset:')\n",
        "display(data_generate)"
      ],
      "execution_count": null,
      "outputs": [
        {
          "output_type": "stream",
          "text": [
            "Banyak Data =  10000000\n",
            "Banyak Fitur =  3\n",
            "\n",
            "Menampilkan hasil generate dataset:\n"
          ],
          "name": "stdout"
        },
        {
          "output_type": "display_data",
          "data": {
            "text/html": [
              "<div>\n",
              "<style scoped>\n",
              "    .dataframe tbody tr th:only-of-type {\n",
              "        vertical-align: middle;\n",
              "    }\n",
              "\n",
              "    .dataframe tbody tr th {\n",
              "        vertical-align: top;\n",
              "    }\n",
              "\n",
              "    .dataframe thead th {\n",
              "        text-align: right;\n",
              "    }\n",
              "</style>\n",
              "<table border=\"1\" class=\"dataframe\">\n",
              "  <thead>\n",
              "    <tr style=\"text-align: right;\">\n",
              "      <th></th>\n",
              "      <th>Count All (X1)</th>\n",
              "      <th>Count Positive Review (X2)</th>\n",
              "      <th>Count Negative Review (X3)</th>\n",
              "      <th>Stock Open (Y)</th>\n",
              "    </tr>\n",
              "  </thead>\n",
              "  <tbody>\n",
              "    <tr>\n",
              "      <th>0</th>\n",
              "      <td>245563</td>\n",
              "      <td>11951</td>\n",
              "      <td>17919</td>\n",
              "      <td>115.576511</td>\n",
              "    </tr>\n",
              "    <tr>\n",
              "      <th>1</th>\n",
              "      <td>62252</td>\n",
              "      <td>3873</td>\n",
              "      <td>18257</td>\n",
              "      <td>130.853266</td>\n",
              "    </tr>\n",
              "    <tr>\n",
              "      <th>2</th>\n",
              "      <td>124549</td>\n",
              "      <td>3358</td>\n",
              "      <td>18870</td>\n",
              "      <td>116.817303</td>\n",
              "    </tr>\n",
              "    <tr>\n",
              "      <th>3</th>\n",
              "      <td>261581</td>\n",
              "      <td>14445</td>\n",
              "      <td>9885</td>\n",
              "      <td>126.890647</td>\n",
              "    </tr>\n",
              "    <tr>\n",
              "      <th>4</th>\n",
              "      <td>159295</td>\n",
              "      <td>16283</td>\n",
              "      <td>10355</td>\n",
              "      <td>132.490840</td>\n",
              "    </tr>\n",
              "    <tr>\n",
              "      <th>...</th>\n",
              "      <td>...</td>\n",
              "      <td>...</td>\n",
              "      <td>...</td>\n",
              "      <td>...</td>\n",
              "    </tr>\n",
              "    <tr>\n",
              "      <th>9999995</th>\n",
              "      <td>144809</td>\n",
              "      <td>17363</td>\n",
              "      <td>18116</td>\n",
              "      <td>126.876476</td>\n",
              "    </tr>\n",
              "    <tr>\n",
              "      <th>9999996</th>\n",
              "      <td>128753</td>\n",
              "      <td>12629</td>\n",
              "      <td>8538</td>\n",
              "      <td>121.731638</td>\n",
              "    </tr>\n",
              "    <tr>\n",
              "      <th>9999997</th>\n",
              "      <td>99388</td>\n",
              "      <td>13167</td>\n",
              "      <td>6297</td>\n",
              "      <td>152.144425</td>\n",
              "    </tr>\n",
              "    <tr>\n",
              "      <th>9999998</th>\n",
              "      <td>129715</td>\n",
              "      <td>19949</td>\n",
              "      <td>12920</td>\n",
              "      <td>121.869029</td>\n",
              "    </tr>\n",
              "    <tr>\n",
              "      <th>9999999</th>\n",
              "      <td>168073</td>\n",
              "      <td>17487</td>\n",
              "      <td>8237</td>\n",
              "      <td>130.143268</td>\n",
              "    </tr>\n",
              "  </tbody>\n",
              "</table>\n",
              "<p>10000000 rows × 4 columns</p>\n",
              "</div>"
            ],
            "text/plain": [
              "         Count All (X1)  ...  Stock Open (Y)\n",
              "0                245563  ...      115.576511\n",
              "1                 62252  ...      130.853266\n",
              "2                124549  ...      116.817303\n",
              "3                261581  ...      126.890647\n",
              "4                159295  ...      132.490840\n",
              "...                 ...  ...             ...\n",
              "9999995          144809  ...      126.876476\n",
              "9999996          128753  ...      121.731638\n",
              "9999997           99388  ...      152.144425\n",
              "9999998          129715  ...      121.869029\n",
              "9999999          168073  ...      130.143268\n",
              "\n",
              "[10000000 rows x 4 columns]"
            ]
          },
          "metadata": {
            "tags": []
          }
        }
      ]
    },
    {
      "cell_type": "code",
      "metadata": {
        "colab": {
          "base_uri": "https://localhost:8080/",
          "height": 990
        },
        "id": "ba_FnVgGQlyT",
        "outputId": "48a2ebae-ac27-4eb4-fb06-3f3bb71dd9ba"
      },
      "source": [
        "EA_df = pd.read_csv('Data_Generate_EA.csv').head(30)   #perhatikan nama file csv\n",
        "EA_df"
      ],
      "execution_count": null,
      "outputs": [
        {
          "output_type": "execute_result",
          "data": {
            "text/html": [
              "<div>\n",
              "<style scoped>\n",
              "    .dataframe tbody tr th:only-of-type {\n",
              "        vertical-align: middle;\n",
              "    }\n",
              "\n",
              "    .dataframe tbody tr th {\n",
              "        vertical-align: top;\n",
              "    }\n",
              "\n",
              "    .dataframe thead th {\n",
              "        text-align: right;\n",
              "    }\n",
              "</style>\n",
              "<table border=\"1\" class=\"dataframe\">\n",
              "  <thead>\n",
              "    <tr style=\"text-align: right;\">\n",
              "      <th></th>\n",
              "      <th>Count All (X1)</th>\n",
              "      <th>Count Positive Review (X2)</th>\n",
              "      <th>Count Negative Review (X3)</th>\n",
              "      <th>Stock Open (Y)</th>\n",
              "    </tr>\n",
              "  </thead>\n",
              "  <tbody>\n",
              "    <tr>\n",
              "      <th>0</th>\n",
              "      <td>245563</td>\n",
              "      <td>11951</td>\n",
              "      <td>17919</td>\n",
              "      <td>115.576511</td>\n",
              "    </tr>\n",
              "    <tr>\n",
              "      <th>1</th>\n",
              "      <td>62252</td>\n",
              "      <td>3873</td>\n",
              "      <td>18257</td>\n",
              "      <td>130.853266</td>\n",
              "    </tr>\n",
              "    <tr>\n",
              "      <th>2</th>\n",
              "      <td>124549</td>\n",
              "      <td>3358</td>\n",
              "      <td>18870</td>\n",
              "      <td>116.817303</td>\n",
              "    </tr>\n",
              "    <tr>\n",
              "      <th>3</th>\n",
              "      <td>261581</td>\n",
              "      <td>14445</td>\n",
              "      <td>9885</td>\n",
              "      <td>126.890647</td>\n",
              "    </tr>\n",
              "    <tr>\n",
              "      <th>4</th>\n",
              "      <td>159295</td>\n",
              "      <td>16283</td>\n",
              "      <td>10355</td>\n",
              "      <td>132.490840</td>\n",
              "    </tr>\n",
              "    <tr>\n",
              "      <th>5</th>\n",
              "      <td>249945</td>\n",
              "      <td>14887</td>\n",
              "      <td>12025</td>\n",
              "      <td>139.682610</td>\n",
              "    </tr>\n",
              "    <tr>\n",
              "      <th>6</th>\n",
              "      <td>291860</td>\n",
              "      <td>15111</td>\n",
              "      <td>15040</td>\n",
              "      <td>160.090419</td>\n",
              "    </tr>\n",
              "    <tr>\n",
              "      <th>7</th>\n",
              "      <td>119682</td>\n",
              "      <td>4807</td>\n",
              "      <td>12618</td>\n",
              "      <td>123.187479</td>\n",
              "    </tr>\n",
              "    <tr>\n",
              "      <th>8</th>\n",
              "      <td>48796</td>\n",
              "      <td>16377</td>\n",
              "      <td>5457</td>\n",
              "      <td>130.379117</td>\n",
              "    </tr>\n",
              "    <tr>\n",
              "      <th>9</th>\n",
              "      <td>193076</td>\n",
              "      <td>7992</td>\n",
              "      <td>2935</td>\n",
              "      <td>127.590072</td>\n",
              "    </tr>\n",
              "    <tr>\n",
              "      <th>10</th>\n",
              "      <td>243496</td>\n",
              "      <td>17434</td>\n",
              "      <td>19904</td>\n",
              "      <td>144.936802</td>\n",
              "    </tr>\n",
              "    <tr>\n",
              "      <th>11</th>\n",
              "      <td>171879</td>\n",
              "      <td>16837</td>\n",
              "      <td>6096</td>\n",
              "      <td>164.979898</td>\n",
              "    </tr>\n",
              "    <tr>\n",
              "      <th>12</th>\n",
              "      <td>263460</td>\n",
              "      <td>11445</td>\n",
              "      <td>6011</td>\n",
              "      <td>124.224504</td>\n",
              "    </tr>\n",
              "    <tr>\n",
              "      <th>13</th>\n",
              "      <td>287607</td>\n",
              "      <td>8813</td>\n",
              "      <td>16938</td>\n",
              "      <td>127.521292</td>\n",
              "    </tr>\n",
              "    <tr>\n",
              "      <th>14</th>\n",
              "      <td>148446</td>\n",
              "      <td>3593</td>\n",
              "      <td>6822</td>\n",
              "      <td>154.921932</td>\n",
              "    </tr>\n",
              "    <tr>\n",
              "      <th>15</th>\n",
              "      <td>274448</td>\n",
              "      <td>11601</td>\n",
              "      <td>8423</td>\n",
              "      <td>115.275937</td>\n",
              "    </tr>\n",
              "    <tr>\n",
              "      <th>16</th>\n",
              "      <td>218330</td>\n",
              "      <td>16275</td>\n",
              "      <td>12650</td>\n",
              "      <td>117.689878</td>\n",
              "    </tr>\n",
              "    <tr>\n",
              "      <th>17</th>\n",
              "      <td>49835</td>\n",
              "      <td>18488</td>\n",
              "      <td>10668</td>\n",
              "      <td>132.427039</td>\n",
              "    </tr>\n",
              "    <tr>\n",
              "      <th>18</th>\n",
              "      <td>161606</td>\n",
              "      <td>9605</td>\n",
              "      <td>5167</td>\n",
              "      <td>112.157076</td>\n",
              "    </tr>\n",
              "    <tr>\n",
              "      <th>19</th>\n",
              "      <td>263017</td>\n",
              "      <td>2693</td>\n",
              "      <td>16649</td>\n",
              "      <td>139.664601</td>\n",
              "    </tr>\n",
              "    <tr>\n",
              "      <th>20</th>\n",
              "      <td>184383</td>\n",
              "      <td>2622</td>\n",
              "      <td>3447</td>\n",
              "      <td>154.448767</td>\n",
              "    </tr>\n",
              "    <tr>\n",
              "      <th>21</th>\n",
              "      <td>76069</td>\n",
              "      <td>7491</td>\n",
              "      <td>14841</td>\n",
              "      <td>150.236780</td>\n",
              "    </tr>\n",
              "    <tr>\n",
              "      <th>22</th>\n",
              "      <td>146415</td>\n",
              "      <td>19206</td>\n",
              "      <td>13130</td>\n",
              "      <td>141.999729</td>\n",
              "    </tr>\n",
              "    <tr>\n",
              "      <th>23</th>\n",
              "      <td>127494</td>\n",
              "      <td>4168</td>\n",
              "      <td>8695</td>\n",
              "      <td>130.775587</td>\n",
              "    </tr>\n",
              "    <tr>\n",
              "      <th>24</th>\n",
              "      <td>287580</td>\n",
              "      <td>10378</td>\n",
              "      <td>6169</td>\n",
              "      <td>149.888912</td>\n",
              "    </tr>\n",
              "    <tr>\n",
              "      <th>25</th>\n",
              "      <td>228596</td>\n",
              "      <td>9308</td>\n",
              "      <td>17960</td>\n",
              "      <td>143.500721</td>\n",
              "    </tr>\n",
              "    <tr>\n",
              "      <th>26</th>\n",
              "      <td>263219</td>\n",
              "      <td>7765</td>\n",
              "      <td>7395</td>\n",
              "      <td>143.014813</td>\n",
              "    </tr>\n",
              "    <tr>\n",
              "      <th>27</th>\n",
              "      <td>148832</td>\n",
              "      <td>19762</td>\n",
              "      <td>19068</td>\n",
              "      <td>149.793820</td>\n",
              "    </tr>\n",
              "    <tr>\n",
              "      <th>28</th>\n",
              "      <td>60475</td>\n",
              "      <td>6217</td>\n",
              "      <td>4197</td>\n",
              "      <td>162.840457</td>\n",
              "    </tr>\n",
              "    <tr>\n",
              "      <th>29</th>\n",
              "      <td>214851</td>\n",
              "      <td>10996</td>\n",
              "      <td>7551</td>\n",
              "      <td>158.373215</td>\n",
              "    </tr>\n",
              "  </tbody>\n",
              "</table>\n",
              "</div>"
            ],
            "text/plain": [
              "    Count All (X1)  ...  Stock Open (Y)\n",
              "0           245563  ...      115.576511\n",
              "1            62252  ...      130.853266\n",
              "2           124549  ...      116.817303\n",
              "3           261581  ...      126.890647\n",
              "4           159295  ...      132.490840\n",
              "5           249945  ...      139.682610\n",
              "6           291860  ...      160.090419\n",
              "7           119682  ...      123.187479\n",
              "8            48796  ...      130.379117\n",
              "9           193076  ...      127.590072\n",
              "10          243496  ...      144.936802\n",
              "11          171879  ...      164.979898\n",
              "12          263460  ...      124.224504\n",
              "13          287607  ...      127.521292\n",
              "14          148446  ...      154.921932\n",
              "15          274448  ...      115.275937\n",
              "16          218330  ...      117.689878\n",
              "17           49835  ...      132.427039\n",
              "18          161606  ...      112.157076\n",
              "19          263017  ...      139.664601\n",
              "20          184383  ...      154.448767\n",
              "21           76069  ...      150.236780\n",
              "22          146415  ...      141.999729\n",
              "23          127494  ...      130.775587\n",
              "24          287580  ...      149.888912\n",
              "25          228596  ...      143.500721\n",
              "26          263219  ...      143.014813\n",
              "27          148832  ...      149.793820\n",
              "28           60475  ...      162.840457\n",
              "29          214851  ...      158.373215\n",
              "\n",
              "[30 rows x 4 columns]"
            ]
          },
          "metadata": {
            "tags": []
          },
          "execution_count": 3
        }
      ]
    },
    {
      "cell_type": "code",
      "metadata": {
        "id": "wqsSC2ShVYn6"
      },
      "source": [
        "import matplotlib.pyplot as plt\n",
        "from sklearn.linear_model import LinearRegression\n",
        "from sklearn.model_selection import train_test_split"
      ],
      "execution_count": null,
      "outputs": []
    },
    {
      "cell_type": "code",
      "metadata": {
        "colab": {
          "base_uri": "https://localhost:8080/",
          "height": 295
        },
        "id": "iRHefOqlUzm2",
        "outputId": "0ed068ce-f082-4416-8d64-e0b263069797"
      },
      "source": [
        "#Bivariate analysis Count All dan Stock Open\n",
        "#Menggunakan scatter plot\n",
        "plt.scatter(EA_df['Count All (X1)'], EA_df['Stock Open (Y)'])\n",
        "plt.xlabel('Count All')\n",
        "plt.ylabel('Stock Open')\n",
        "plt.title('Scatter Plot Count All vs Stock Open')\n",
        "plt.show()"
      ],
      "execution_count": null,
      "outputs": [
        {
          "output_type": "display_data",
          "data": {
            "image/png": "[encoded data removed]",
            "text/plain": [
              "<Figure size 432x288 with 1 Axes>"
            ]
          },
          "metadata": {
            "tags": [],
            "needs_background": "light"
          }
        }
      ]
    },
    {
      "cell_type": "code",
      "metadata": {
        "id": "5fE-1ISNV83O"
      },
      "source": [
        "#Modelling\n",
        "#Pertama, buat variabel x dan y\n",
        "x = EA_df['Count All (X1)'].values.reshape(-1,1)\n",
        "y = EA_df['Stock Open (Y)'].values.reshape(-1,1)\n",
        "\n",
        "#Kedua, kita split data kita menjadi training and testing dengan porsi 80:20\n",
        "x_train, x_test, y_train, y_test = train_test_split(x, y, test_size=0.2)"
      ],
      "execution_count": null,
      "outputs": []
    },
    {
      "cell_type": "code",
      "metadata": {
        "colab": {
          "base_uri": "https://localhost:8080/"
        },
        "id": "akEFSRe1WV2o",
        "outputId": "18bb4e40-8311-42cd-d8d1-92eadceed6e3"
      },
      "source": [
        "lin_reg = LinearRegression()\n",
        "lin_reg.fit(x_train, y_train)\n",
        "\n",
        "#cari tau nilai slope/koefisien (m) dan intercept (b)\n",
        "print(lin_reg.coef_)\n",
        "print(lin_reg.intercept_)\n",
        "\n",
        "#accuracy score\n",
        "lin_reg.score(x_test, y_test)"
      ],
      "execution_count": null,
      "outputs": [
        {
          "output_type": "stream",
          "text": [
            "[[4.15790528e-05]]\n",
            "[126.46461294]\n"
          ],
          "name": "stdout"
        },
        {
          "output_type": "execute_result",
          "data": {
            "text/plain": [
              "-1.4680644365328894"
            ]
          },
          "metadata": {
            "tags": []
          },
          "execution_count": 11
        }
      ]
    },
    {
      "cell_type": "code",
      "metadata": {
        "colab": {
          "base_uri": "https://localhost:8080/",
          "height": 313
        },
        "id": "YLkdaVgIW8Yl",
        "outputId": "34687def-5ea5-4cec-9252-a25de6ac7df0"
      },
      "source": [
        "y_prediksi = lin_reg.predict(x_test)\n",
        "plt.scatter(x_test, y_test)\n",
        "plt.plot(x_test, y_prediksi, c='r')\n",
        "plt.xlabel('All Count')\n",
        "plt.ylabel('Stock Open')\n",
        "plt.title('All Count vs Stock Open')"
      ],
      "execution_count": null,
      "outputs": [
        {
          "output_type": "execute_result",
          "data": {
            "text/plain": [
              "Text(0.5, 1.0, 'All Count vs Stock Open')"
            ]
          },
          "metadata": {
            "tags": []
          },
          "execution_count": 13
        },
        {
          "output_type": "display_data",
          "data": {
            "image/png": "[encoded data removed]",
            "text/plain": [
              "<Figure size 432x288 with 1 Axes>"
            ]
          },
          "metadata": {
            "tags": [],
            "needs_background": "light"
          }
        }
      ]
    },
    {
      "cell_type": "code",
      "metadata": {
        "colab": {
          "base_uri": "https://localhost:8080/"
        },
        "id": "FSaVw-iiXUQ-",
        "outputId": "99c4173c-8363-43f5-b83f-37ba1c202b42"
      },
      "source": [
        "#Prediksi Stock Open dengan tweet count 12000\n",
        "lin_reg.predict([[12000]])"
      ],
      "execution_count": null,
      "outputs": [
        {
          "output_type": "execute_result",
          "data": {
            "text/plain": [
              "array([[126.96356157]])"
            ]
          },
          "metadata": {
            "tags": []
          },
          "execution_count": 14
        }
      ]
    }
  ]
}